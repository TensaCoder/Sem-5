{
 "cells": [
  {
   "cell_type": "code",
   "execution_count": 18,
   "metadata": {},
   "outputs": [
    {
     "name": "stdout",
     "output_type": "stream",
     "text": [
      "Alpha :  0.6\n",
      "Starting weights :  [0, 1, 0]\n",
      "Changing value of weights :  [-1.2, -0.19999999999999996, 1.2]\n",
      "Changing value of weights :  [0.0, 1.0, 2.4]\n",
      "Changing value of weights :  [-1.2, 2.2, 1.2]\n",
      "\n",
      "\n",
      "Number of iteration :  3\n",
      "Weights :  [-1.2, 2.2, 1.2]\n",
      "\n",
      "Output for -1 and -1 : -1 \n",
      "Output for -1 and 1 : -1 \n",
      "Output for 1 and -1 : -1 \n",
      "Output for 1 and 1 : 1 \n"
     ]
    }
   ],
   "source": [
    "def sgn (x):\n",
    "    if x>=0:\n",
    "        return 1\n",
    "    else:\n",
    "        return -1\n",
    "\n",
    "def learning(w, x, d, alpha):\n",
    "    iteration = 0\n",
    "    oiList=[]\n",
    "    while oiList != d :\n",
    "        oiList=[]\n",
    "        for i in range(len(x)):\n",
    "            net = w[0]*x[i][0] + w[1]*x[i][1] + w[2]*x[i][2]\n",
    "            oi= sgn(net)\n",
    "            \n",
    "            if d[i] != oi:\n",
    "                r=d[i]-oi\n",
    "                wDeltaVal = alpha * r\n",
    "                wDelta =[\n",
    "                    wDeltaVal*x[i][0],\n",
    "                    wDeltaVal*x[i][1],\n",
    "                    wDeltaVal*x[i][2]\n",
    "                ]\n",
    "                w = [\n",
    "                    w[0] + wDelta[0],\n",
    "                    w[1] + wDelta[1],\n",
    "                    w[2] + wDelta[2]\n",
    "                ]\n",
    "                iteration+=1\n",
    "                print(\"Changing value of weights : \", w)\n",
    "            oiList.append(oi)\n",
    "        # print(\"oi list : \", oiList)\n",
    "            # print(\"w{} list : {}\".format(i+1, w))\n",
    "        # print(\\\"nNew list : \\\", wNew)\n",
    "        \n",
    "    print(\"\\n\")\n",
    "    print(\"Number of iteration : \", iteration)\n",
    "    return w, oiList\n",
    "\n",
    "alpha = 0.6\n",
    "w=[0, 1, 0]\n",
    "x=[[1, -1, -1], [1, -1, 1], [1, 1, -1], [1, 1, 1]]\n",
    "d=[-1, -1, -1, 1]\n",
    "print(\"Alpha : \",alpha)\n",
    "print(\"Starting weights : \", w)\n",
    "wFinal, oiList = learning(w, x, d, alpha)\n",
    "print(\"Weights : \", wFinal)\n",
    "# print(\"Output : \", oiList)\n",
    "\n",
    "def checkingWeights(w, x0, x1, x2):\n",
    "    finalOutput= w[0]*x0 + w[1]*x1 + w[2]*x2\n",
    "    return sgn(finalOutput)\n",
    "\n",
    "\n",
    "\n",
    "print()\n",
    "\n",
    "# TO CHECK IF THE WEIGHTS ARE ACTUALLY CORRECT OR NOT\n",
    "for subarr in x:\n",
    "    x0=subarr[0]\n",
    "    x1=subarr[1] \n",
    "    x2=subarr[2]\n",
    "    finalOutput = checkingWeights(wFinal, x0, x1, x2)\n",
    "    print(\"Output for {} and {} : {} \".format(x1, x2, finalOutput))\n"
   ]
  }
 ],
 "metadata": {
  "kernelspec": {
   "display_name": "Python 3.10.5 64-bit",
   "language": "python",
   "name": "python3"
  },
  "language_info": {
   "codemirror_mode": {
    "name": "ipython",
    "version": 3
   },
   "file_extension": ".py",
   "mimetype": "text/x-python",
   "name": "python",
   "nbconvert_exporter": "python",
   "pygments_lexer": "ipython3",
   "version": "3.10.5"
  },
  "orig_nbformat": 4,
  "vscode": {
   "interpreter": {
    "hash": "aee8b7b246df8f9039afb4144a1f6fd8d2ca17a180786b69acc140d282b71a49"
   }
  }
 },
 "nbformat": 4,
 "nbformat_minor": 2
}
