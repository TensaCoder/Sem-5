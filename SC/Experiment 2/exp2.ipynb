{
 "cells": [
  {
   "cell_type": "code",
   "execution_count": 1,
   "metadata": {},
   "outputs": [
    {
     "name": "stdout",
     "output_type": "stream",
     "text": [
      "Output for 0 and 0 : -1 \n",
      "Output for 0 and 1 : 1 \n",
      "Output for 1 and 0 : 1 \n",
      "Output for 1 and 1 : -1 \n"
     ]
    }
   ],
   "source": [
    "def sgn (x):\n",
    "    if x>=0:\n",
    "        return 1\n",
    "    else:\n",
    "        return -1\n",
    "\n",
    "def tlu1 (x1,x2):\n",
    "    # eqn of line is -2x1 + x2 - 1/2=0\n",
    "    output1 = -2*x1 + x2 - 0.5\n",
    "    return sgn(output1)\n",
    "\n",
    "def tlu2 (x1,x2):\n",
    "    # eqn of line is x1 - x2 - 1/2=0\n",
    "    output2 = x1 - x2 - 0.5\n",
    "    return sgn(output2)\n",
    "\n",
    "def tlu3 (x1, x2):\n",
    "    outTLU1 = tlu1(x1, x2)\n",
    "    outTLU2 = tlu2(x1, x2)\n",
    "    # eqn of line is x1 + x2 + 1=0\n",
    "    output3 = outTLU1 + outTLU2 + 1\n",
    "    return sgn(output3)\n",
    "\n",
    "arr = [[0,0], [0,1], [1,0], [1,1]]\n",
    "for subarr in arr:\n",
    "    x1=subarr[0]\n",
    "    x2=subarr[1]\n",
    "    finalOutput = tlu3(x1, x2)\n",
    "    print(\"Output for {} and {} : {} \".format(x1, x2, finalOutput))    \n"
   ]
  }
 ],
 "metadata": {
  "kernelspec": {
   "display_name": "Python 3.10.5 64-bit",
   "language": "python",
   "name": "python3"
  },
  "language_info": {
   "codemirror_mode": {
    "name": "ipython",
    "version": 3
   },
   "file_extension": ".py",
   "mimetype": "text/x-python",
   "name": "python",
   "nbconvert_exporter": "python",
   "pygments_lexer": "ipython3",
   "version": "3.10.5"
  },
  "orig_nbformat": 4,
  "vscode": {
   "interpreter": {
    "hash": "aee8b7b246df8f9039afb4144a1f6fd8d2ca17a180786b69acc140d282b71a49"
   }
  }
 },
 "nbformat": 4,
 "nbformat_minor": 2
}
