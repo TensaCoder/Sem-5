{
 "cells": [
  {
   "cell_type": "code",
   "execution_count": 1,
   "metadata": {},
   "outputs": [
    {
     "name": "stdout",
     "output_type": "stream",
     "text": [
      "Random list:  [85, 73, 25, 83, 2, 20, 53, 10, 31, 85]\n",
      "Sum of random list:  467\n",
      "Probability list:  [0.18201284796573874, 0.15631691648822268, 0.05353319057815846, 0.1777301927194861, 0.004282655246252677, 0.042826552462526764, 0.11349036402569593, 0.021413276231263382, 0.06638115631691649, 0.18201284796573874]\n",
      "Cumulative probability:  [0.18201284796573874, 0.33832976445396146, 0.39186295503211993, 0.5695931477516061, 0.5738758029978588, 0.6167023554603855, 0.7301927194860814, 0.7516059957173449, 0.8179871520342614, 1.0000000000000002]\n",
      "The winner is:  7\n"
     ]
    }
   ],
   "source": [
    "# write a program to simulate proof of stake using voting method\n",
    "\n",
    "import random\n",
    "import math\n",
    "\n",
    "# function to generate random number\n",
    "def random_number():\n",
    "    return random.randint(1, 100)\n",
    "\n",
    "# create a list of 10 random numbers\n",
    "random_list = []\n",
    "for i in range(10):\n",
    "    random_list.append(random_number())\n",
    "print(\"Random list: \", random_list)\n",
    "\n",
    "# find the sum of the random numbers\n",
    "sum_random = sum(random_list)\n",
    "print(\"Sum of random list: \", sum_random)\n",
    "\n",
    "# find the probability of each number\n",
    "probability_list = []\n",
    "for i in random_list:\n",
    "    probability_list.append(i/sum_random)\n",
    "print(\"Probability list: \", probability_list)\n",
    "\n",
    "# find the cumulative probability\n",
    "cumulative_probability = []\n",
    "for i in range(len(probability_list)):\n",
    "    cumulative_probability.append(sum(probability_list[:i+1]))\n",
    "print(\"Cumulative probability: \", cumulative_probability)\n",
    "\n",
    "# find the winner\n",
    "winner = 0\n",
    "random_number = random.random()\n",
    "for i in range(len(cumulative_probability)):\n",
    "    if random_number < cumulative_probability[i]:\n",
    "        winner = i\n",
    "        break\n",
    "print(\"The winner is: \", winner)"
   ]
  }
 ],
 "metadata": {
  "kernelspec": {
   "display_name": "Python 3.10.5 64-bit",
   "language": "python",
   "name": "python3"
  },
  "language_info": {
   "codemirror_mode": {
    "name": "ipython",
    "version": 3
   },
   "file_extension": ".py",
   "mimetype": "text/x-python",
   "name": "python",
   "nbconvert_exporter": "python",
   "pygments_lexer": "ipython3",
   "version": "3.10.5"
  },
  "orig_nbformat": 4,
  "vscode": {
   "interpreter": {
    "hash": "aee8b7b246df8f9039afb4144a1f6fd8d2ca17a180786b69acc140d282b71a49"
   }
  }
 },
 "nbformat": 4,
 "nbformat_minor": 2
}
