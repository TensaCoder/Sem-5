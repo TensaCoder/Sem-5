{
 "cells": [
  {
   "cell_type": "code",
   "execution_count": 26,
   "metadata": {},
   "outputs": [
    {
     "name": "stdout",
     "output_type": "stream",
     "text": [
      "Value of nonce :  100949\n",
      "Time taken :  0.10528993606567383\n",
      "Final Hash Value 0000fd266a9a1e4fc7b3d09c4a708b153783920c2c6849473654f41438cefde4\n"
     ]
    }
   ],
   "source": [
    "import hashlib\n",
    "import time\n",
    "# write a function to calculate the hash of a string using hashlib.sha256‘s hexdigest() method\n",
    "def hash(s):\n",
    "    return hashlib.sha256(s.encode()).hexdigest()\n",
    "\n",
    "# write a function to accept blockNumber, blockData, and previousHash as parameters from the user and return a string with the blockNumber, blockData, and previousHash concatenated together\n",
    "def blockToString(blockNumber, nonce, blockData, previousHash):\n",
    "    return str(blockNumber) + \" : \" + str(nonce) + \" : \" + blockData + \" : \" + previousHash\n",
    "\n",
    "# write a function to accept a list of strings as input and return all elements concatenated together\n",
    "def concatList(l):\n",
    "    return ', '.join(l)\n",
    "\n",
    "# write a function to produce a hash that starts with 0000\n",
    "def findHash(blockNumber, nonce, blockData, previousHash):\n",
    "    completeData = blockToString(blockNumber, nonce, blockData, previousHash)\n",
    "    hashValue = hash(completeData)\n",
    "    while hashValue[:4] != \"0000\":\n",
    "        nonce += 1\n",
    "        completeData = blockToString(blockNumber, nonce, blockData, previousHash)\n",
    "        hashValue = hash(completeData)\n",
    "    print(\"Value of nonce : \",nonce)\n",
    "    return hashValue\n",
    "\n",
    "# write a function to produce a hash that starts with 0000 including difficulty\n",
    "def findHashWithDifficulty(blockNumber, nonce, blockData, previousHash, difficulty):\n",
    "    completeData = blockToString(blockNumber, nonce, blockData, previousHash)\n",
    "    hashValue = hash(completeData)\n",
    "    while hashValue[:difficulty] != \"0\"*difficulty:\n",
    "        nonce += 1\n",
    "        completeData = blockToString(blockNumber, nonce, blockData, previousHash)\n",
    "        hashValue = hash(completeData)\n",
    "    print(\"Value of nonce : \",nonce)\n",
    "    return hashValue\n",
    "\n",
    "\n",
    "\n",
    "def userInput():\n",
    "    # read in the blockNumber, blockData, and previousHash from the user\n",
    "    blockNumber = int(input(\"Enter the block number: \"))\n",
    "\n",
    "    # accept the block transaction details\n",
    "    blockData =[]\n",
    "    print('Enter \"X\" to exit')\n",
    "    blockTransactions = input(\"Enter the block data: \")\n",
    "    while blockTransactions != \"X\":\n",
    "        blockData.append(blockTransactions)\n",
    "        blockTransactions = input(\"Enter the block data: \")\n",
    "\n",
    "    # accept the previous hash\n",
    "    previousHash = input(\"Enter the previous hash: \")\n",
    "    \n",
    "    blockData = concatList(blockData)\n",
    "\n",
    "    hashValue = findHash(blockNumber, nonce, blockData, previousHash)\n",
    "    print(hashValue)\n",
    "\n",
    "\n",
    "blockNumber = 0\n",
    "blockData = [\"A transfered 100 to B\", \"B transfered 50 to C\", \"C transfered 25 to D\", \"D transfered 10 to E\"]\n",
    "nonce = 0\n",
    "previousHash = \"0000\"\n",
    "blockData = concatList(blockData)\n",
    "# print(blockData)\n",
    "\n",
    "startTime = time.time()\n",
    "hashValue = findHash(blockNumber, nonce, blockData, previousHash)\n",
    "endTime = time.time()\n",
    "print(\"Time taken : \", (endTime - startTime))\n",
    "print(\"Final Hash Value\",hashValue)\n",
    "\n",
    "# userInput()\n"
   ]
  },
  {
   "cell_type": "code",
   "execution_count": null,
   "metadata": {},
   "outputs": [],
   "source": []
  }
 ],
 "metadata": {
  "kernelspec": {
   "display_name": "Python 3.10.5 64-bit",
   "language": "python",
   "name": "python3"
  },
  "language_info": {
   "codemirror_mode": {
    "name": "ipython",
    "version": 3
   },
   "file_extension": ".py",
   "mimetype": "text/x-python",
   "name": "python",
   "nbconvert_exporter": "python",
   "pygments_lexer": "ipython3",
   "version": "3.10.5"
  },
  "orig_nbformat": 4,
  "vscode": {
   "interpreter": {
    "hash": "aee8b7b246df8f9039afb4144a1f6fd8d2ca17a180786b69acc140d282b71a49"
   }
  }
 },
 "nbformat": 4,
 "nbformat_minor": 2
}
